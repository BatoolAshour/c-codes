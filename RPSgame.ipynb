{
  "nbformat": 4,
  "nbformat_minor": 0,
  "metadata": {
    "colab": {
      "provenance": [],
      "authorship_tag": "ABX9TyMxfraVGk4e519mRsem6gmD",
      "include_colab_link": true
    },
    "kernelspec": {
      "name": "python3",
      "display_name": "Python 3"
    },
    "language_info": {
      "name": "python"
    }
  },
  "cells": [
    {
      "cell_type": "markdown",
      "metadata": {
        "id": "view-in-github",
        "colab_type": "text"
      },
      "source": [
        "<a href=\"https://colab.research.google.com/github/BatoolAshour/c-codes/blob/main/RPSgame.ipynb\" target=\"_parent\"><img src=\"https://colab.research.google.com/assets/colab-badge.svg\" alt=\"Open In Colab\"/></a>"
      ]
    },
    {
      "cell_type": "code",
      "execution_count": 10,
      "metadata": {
        "colab": {
          "base_uri": "https://localhost:8080/"
        },
        "id": "c1T5wGx_op5E",
        "outputId": "6d50efde-f4ab-4210-d0d3-93a7bde210b3"
      },
      "outputs": [
        {
          "output_type": "stream",
          "name": "stdout",
          "text": [
            "Enter a player choice(rock, paper, scissors):scissors\n",
            "you chose : scissors , computer chose : rock\n",
            "rock smashed scissors! you lose.\n"
          ]
        }
      ],
      "source": [
        "import random\n",
        "\n",
        "def get_choices():\n",
        "    player_choice= input(\"Enter a player choice(rock, paper, scissors):\")\n",
        "    options=[\"rock\", \"paper\", \"scissors \"]\n",
        "    computer_choice= random.choice(options)\n",
        "    choices = {\"player\" : player_choice , \"computer\" : computer_choice}\n",
        "    return choices\n",
        "\n",
        "def check_win(player , computer):\n",
        "  print(f\"you chose : {player} , computer chose : {computer}\"  )\n",
        "  if player == computer :\n",
        "     return \"it's a tie !\"\n",
        "  elif player == \"rock\" :\n",
        "      if computer == \"scissors\" :\n",
        "        return \"rock smashes scissors! you win!\"\n",
        "      else:\n",
        "        return \"paper covers rock! you lose.\"\n",
        "  elif player == \"paper\" :\n",
        "      if computer == \"rock\" :\n",
        "        return \"paper covers rock! you win!\"\n",
        "      else:\n",
        "        return \"scissors cuts paper! you lose\"\n",
        "  elif player == \"scissors\" :\n",
        "      if computer == \"paper\" :\n",
        "        return \"scissors cuts paper! you win!\"\n",
        "      else:\n",
        "        return \"rock smashed scissors! you lose.\"\n",
        "\n",
        "\n",
        "choices = get_choices()\n",
        "result = check_win(choices[\"player\"], choices[\"computer\"])\n",
        "print(result)\n"
      ]
    }
  ]
}